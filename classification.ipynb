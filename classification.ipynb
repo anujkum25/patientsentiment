{
 "cells": [
  {
   "cell_type": "code",
   "execution_count": null,
   "metadata": {},
   "outputs": [],
   "source": [
    "import pandas as pd\n",
    "df_train= pd.read_csv(\"Data/train_data.csv\")"
   ]
  },
  {
   "cell_type": "code",
   "execution_count": null,
   "metadata": {},
   "outputs": [],
   "source": [
    "import nltk\n",
    "nltk.download('wordnet')\n",
    "nltk.download('stopwords')"
   ]
  },
  {
   "cell_type": "code",
   "execution_count": null,
   "metadata": {},
   "outputs": [],
   "source": [
    "#Importing necessary libraries\n",
    "import nltk\n",
    "import pandas as pd\n",
    "from textblob import Word\n",
    "from nltk.corpus import stopwords\n",
    "from sklearn.preprocessing import LabelEncoder\n",
    "from sklearn.metrics import classification_report,confusion_matrix,accuracy_score\n",
    "from keras.models import Sequential\n",
    "from keras.preprocessing.text import Tokenizer, one_hot\n",
    "from keras.utils import pad_sequences\n",
    "from keras.layers import Dense, Embedding, LSTM, SpatialDropout1D\n",
    "from sklearn.model_selection import train_test_split\n",
    "\n",
    "#Pre-Processing the text\n",
    "def cleaning(df, stop_words):\n",
    "    df_train['Review'] = df_train['FFT answer'].apply(lambda x: ' '.join(x.lower() for x in str(x).split()))\n",
    "    # Replacing the digits/numbers\n",
    "    df['Review'] = df['Review'].str.replace('d', '')\n",
    "    # Removing stop words\n",
    "    df['Review'] = df['Review'].apply(lambda x: ' '.join(x for x in x.split() if x not in stop_words))\n",
    "    # Lemmatization\n",
    "    df['Review'] = df['Review'].apply(lambda x: ' '.join([Word(x).lemmatize() for x in x.split()]))\n",
    "    return df\n",
    "\n",
    "stop_words = stopwords.words('english')\n",
    "data_cleaned = cleaning(df_train, stop_words)\n",
    "\n",
    "#Generating Embeddings using tokenizer\n",
    "tokenizer = Tokenizer(num_words=500, split=' ')\n",
    "tokenizer.fit_on_texts(data_cleaned['Review'].values)\n",
    "X = tokenizer.texts_to_sequences(data_cleaned['Review'].values)\n",
    "X = pad_sequences(X)\n",
    "\n",
    "# one hot encoding on target\n",
    "from sklearn.preprocessing import OneHotEncoder\n",
    "enc = OneHotEncoder()\n",
    "Y= df_train[\"Comment sentiment\"].values\n",
    "Y= enc.fit_transform(Y.reshape(-1,1)).toarray()\n",
    "\n",
    "# train test split\n",
    "from sklearn.model_selection import train_test_split\n",
    "X_train, X_test, Y_train, Y_test = train_test_split(X, Y, test_size=0.25, random_state=5)\n"
   ]
  },
  {
   "cell_type": "code",
   "execution_count": null,
   "metadata": {},
   "outputs": [],
   "source": [
    "#Model Building\n",
    "from keras import optimizers\n",
    "model = Sequential()\n",
    "model.add(Embedding(500, 160, input_length = X.shape[1]))\n",
    "model.add(SpatialDropout1D(0.3))\n",
    "model.add(LSTM(512, dropout=0.3, recurrent_dropout=0.3))\n",
    "model.add(Dense(256, activation='LeakyReLU'))\n",
    "model.add(Dense(128, activation='LeakyReLU'))\n",
    "model.add(Dense(6, activation='softmax'))\n",
    "\n",
    "adam = optimizers.Adam(lr=0.01, weight_decay=1e-6, ema_momentum=0.9, use_ema=True)\n",
    "model.compile(loss = 'categorical_crossentropy', optimizer=adam, metrics = ['accuracy'])\n",
    "print(model.summary())\n",
    "\n",
    "#Model Training\n",
    "model.fit(X_train, Y_train, epochs = 20, batch_size=32, verbose =1)\n",
    "#Model Testing\n",
    "score, acc = model.evaluate(X_test,Y_test)\n",
    "print(score)\n",
    "#print(acc)\n",
    "\n",
    "#result\n",
    "#https://the-strategy-unit.github.io/PatientExperience-QDC/background/text_mining_final_report_mar-22.pdf"
   ]
  },
  {
   "cell_type": "code",
   "execution_count": null,
   "metadata": {},
   "outputs": [],
   "source": [
    "#model.save('model.h5')"
   ]
  },
  {
   "cell_type": "code",
   "execution_count": null,
   "metadata": {},
   "outputs": [],
   "source": []
  },
  {
   "cell_type": "code",
   "execution_count": null,
   "metadata": {},
   "outputs": [],
   "source": []
  }
 ],
 "metadata": {
  "language_info": {
   "name": "python"
  }
 },
 "nbformat": 4,
 "nbformat_minor": 2
}
